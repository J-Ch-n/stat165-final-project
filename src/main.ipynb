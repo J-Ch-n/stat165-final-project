{
 "cells": [
  {
   "cell_type": "code",
   "execution_count": null,
   "id": "ca71d3cd",
   "metadata": {},
   "outputs": [],
   "source": [
    "import pickle\n",
    "import numpy as np\n",
    "import pandas as pd\n",
    "import matplotlib.pyplot as plt\n",
    "from datetime import datetime\n",
    "import os\n"
   ]
  },
  {
   "cell_type": "code",
   "execution_count": null,
   "id": "764e5baf",
   "metadata": {},
   "outputs": [],
   "source": [
    "input_folder = \"data/elo-results\"\n",
    "output_folder = \"output\"\n"
   ]
  },
  {
   "cell_type": "markdown",
   "id": "a1551a8a",
   "metadata": {},
   "source": [
    "# Data Cleaning"
   ]
  },
  {
   "cell_type": "markdown",
   "id": "762ea10d",
   "metadata": {},
   "source": [
    "## Import and clean past Chatbot Arena data"
   ]
  },
  {
   "cell_type": "code",
   "execution_count": 33,
   "id": "84eece5a",
   "metadata": {},
   "outputs": [],
   "source": [
    "elo_results_list = []\n",
    "\n",
    "for f in os.listdir(input_folder):\n",
    "    if f.endswith(\".pkl\"):\n",
    "        with open(f\"{input_folder}/{f}\", \"rb\") as f:\n",
    "            data = dict(pickle.load(f))\n",
    "            keys = data.keys()\n",
    "            date = datetime.strptime(f.name[-12:-4], \"%Y%m%d\")\n",
    "            \n",
    "            if 'text' in keys:\n",
    "                df = (\n",
    "                    data['text']['no_refusal']['leaderboard_table_df']\n",
    "                    .reset_index()\n",
    "                    .rename(columns={\n",
    "                        'rating': 'elo',\n",
    "                        'index': 'model'\n",
    "                    })\n",
    "                )\n",
    "                \n",
    "            elif 'leaderiboard_table_df' in keys:\n",
    "                df = (\n",
    "                    data['leaderboard_table_df']\n",
    "                    .reset_index()\n",
    "                    .rename(columns={\n",
    "                        'rating': 'elo',\n",
    "                        'index': 'model'\n",
    "                    })\n",
    "                )\n",
    "                \n",
    "            elif 'leaderboard_table' in keys:\n",
    "                table_str = data['leaderboard_table']\n",
    "   \n",
    "                rows = table_str.split('\\n')[2:]\n",
    "\n",
    "                parsed_rows = [{\n",
    "                    'elo': int(row[2]),\n",
    "                    'model': row[1]\n",
    "                    } for row in map(lambda x: x.strip('| \\n').split('|'), rows) if len(row) == 4]\n",
    "                \n",
    "                df = pd.DataFrame(parsed_rows)\n",
    "                \n",
    "            df['date'] = date\n",
    "            elo_results_list.append(df)\n",
    "\n",
    "elo_results_df = pd.concat(elo_results_list)\n",
    "elo_results_df.to_csv(f\"{output_folder}/elo_results.csv\", index=False)\n"
   ]
  },
  {
   "cell_type": "markdown",
   "id": "bbd3ae25",
   "metadata": {},
   "source": [
    "# Analysis"
   ]
  },
  {
   "cell_type": "code",
   "execution_count": null,
   "id": "83a4e33d",
   "metadata": {},
   "outputs": [],
   "source": [
    "elo_results_df = pd.read_csv(f\"{output_folder}/elo_results.csv\")\n"
   ]
  },
  {
   "cell_type": "markdown",
   "id": "82070ac3",
   "metadata": {},
   "source": [
    "## Visualizarion Helpers"
   ]
  },
  {
   "cell_type": "code",
   "execution_count": 35,
   "id": "65f88026",
   "metadata": {},
   "outputs": [],
   "source": [
    "def view_data(data):\n",
    "    print(data.head(10))\n",
    "\n",
    "\n",
    "def visualize_top_rank_distributions(data, top_k = 1):\n",
    "    top_rank_scores = (\n",
    "            data.groupby(['date'])['elo']\n",
    "            .apply(lambda x: x.nlargest(top_k))\n",
    "            .reset_index(level=1, drop=True)\n",
    "        )\n",
    "    \n",
    "    top_rank_scores.plot(marker='o', title=f\"Top {top_k} Elo Ratings Over Time\")\n",
    "    plt.xlabel(\"Date\")\n",
    "    plt.ylabel(\"Elo Rating\")\n",
    "    plt.grid(True)\n",
    "    plt.tight_layout()\n",
    "    plt.show()\n"
   ]
  },
  {
   "cell_type": "markdown",
   "id": "c21a1694",
   "metadata": {},
   "source": [
    "## Estimation Helpers"
   ]
  },
  {
   "cell_type": "code",
   "execution_count": 36,
   "id": "fe0ea3d8",
   "metadata": {},
   "outputs": [],
   "source": [
    "def estimate_p0():\n",
    "    \n",
    "    return None\n",
    "\n",
    "def estimate_p1():\n",
    "    \n",
    "    return None\n",
    "\n",
    "def estimate_epsilon():\n",
    "    \n",
    "    return None\n"
   ]
  },
  {
   "cell_type": "markdown",
   "id": "62335b8c",
   "metadata": {},
   "source": [
    "## Forcast Helpers"
   ]
  },
  {
   "cell_type": "code",
   "execution_count": 37,
   "id": "b2a488bd",
   "metadata": {},
   "outputs": [],
   "source": [
    "# Combines all methods to predict the final elo score.\n",
    "def predict_elo_score():\n",
    "    \n",
    "    return None\n"
   ]
  },
  {
   "cell_type": "markdown",
   "id": "314da0d7",
   "metadata": {},
   "source": [
    "## Distribution Identification"
   ]
  },
  {
   "cell_type": "code",
   "execution_count": null,
   "id": "9e428c36",
   "metadata": {},
   "outputs": [
    {
     "name": "stdout",
     "output_type": "stream",
     "text": [
      "                        model          elo   variance  rating_q975  \\\n",
      "0            RWKV-4-Raven-14B   914.615469  30.215045   926.376564   \n",
      "1                  alpaca-13b   888.655741  25.705916   898.316730   \n",
      "2      bard-jan-24-gemini-pro  1212.652190  10.701864  1219.369522   \n",
      "3                  chatglm-6b   866.704866  25.973979   875.888749   \n",
      "4                 chatglm2-6b   910.729452  46.204860   920.631407   \n",
      "5                 chatglm3-6b   946.973555  21.547660   956.190364   \n",
      "6                    claude-1  1166.009445   8.342050  1171.632951   \n",
      "7                  claude-2.0  1150.192773   9.588814  1156.013589   \n",
      "8                  claude-2.1  1137.229774   3.050862  1140.759220   \n",
      "9  claude-3-5-sonnet-20240620  1280.374153   4.076216  1284.808360   \n",
      "\n",
      "   rating_q025  num_battles  final_ranking        date  \n",
      "0   903.557065       4444.0          105.0  2024-07-06  \n",
      "1   879.010494       5471.0          108.0  2024-07-06  \n",
      "2  1206.623832      11256.0           12.0  2024-07-06  \n",
      "3   857.233939       4473.0          111.0  2024-07-06  \n",
      "4   895.893569       2366.0          105.0  2024-07-06  \n",
      "5   938.161280       4191.0          103.0  2024-07-06  \n",
      "6  1160.269445      18749.0           28.0  2024-07-06  \n",
      "7  1144.749102      11453.0           32.0  2024-07-06  \n",
      "8  1134.137950      33900.0           42.0  2024-07-06  \n",
      "9  1277.093024      21850.0            2.0  2024-07-06  \n"
     ]
    }
   ],
   "source": [
    "view_data(elo_results_df)\n"
   ]
  },
  {
   "cell_type": "code",
   "execution_count": null,
   "id": "8a9eb945",
   "metadata": {},
   "outputs": [
    {
     "data": {
      "image/png": "[encoded data removed]",
      "text/plain": [
       "<Figure size 640x480 with 1 Axes>"
      ]
     },
     "metadata": {},
     "output_type": "display_data"
    }
   ],
   "source": [
    "visualize_top_rank_distributions(elo_results_df)\n"
   ]
  },
  {
   "cell_type": "markdown",
   "id": "193e716c",
   "metadata": {},
   "source": [
    "## Final Predtion Model:\n",
    "\n",
    "TODO Write out the model structure."
   ]
  },
  {
   "cell_type": "code",
   "execution_count": null,
   "id": "9bbe545e",
   "metadata": {},
   "outputs": [],
   "source": []
  },
  {
   "cell_type": "markdown",
   "id": "2b6e0674",
   "metadata": {},
   "source": [
    "## Epsilon Estimation"
   ]
  },
  {
   "cell_type": "code",
   "execution_count": null,
   "id": "abd17739",
   "metadata": {},
   "outputs": [],
   "source": []
  }
 ],
 "metadata": {
  "kernelspec": {
   "display_name": "stat165",
   "language": "python",
   "name": "python3"
  },
  "language_info": {
   "codemirror_mode": {
    "name": "ipython",
    "version": 3
   },
   "file_extension": ".py",
   "mimetype": "text/x-python",
   "name": "python",
   "nbconvert_exporter": "python",
   "pygments_lexer": "ipython3",
   "version": "3.10.16"
  }
 },
 "nbformat": 4,
 "nbformat_minor": 5
}
